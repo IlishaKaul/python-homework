{
 "cells": [
  {
   "cell_type": "markdown",
   "id": "b1c248f0-3807-4568-a7cd-4dad93d2331e",
   "metadata": {},
   "source": [
    "# Tasks"
   ]
  },
  {
   "cell_type": "code",
   "execution_count": 43,
   "id": "7910c8c4-2502-46d0-afbf-785665ac132a",
   "metadata": {},
   "outputs": [],
   "source": [
    "#Your task is to create a Python script that analyzes the records to calculate each of the following:\\\n",
    "\n",
    "#The total number of months included in the dataset.\n",
    "#The net total amount of Profit/Losses over the entire period.\n",
    "#The average of the changes in Profit/Losses over the entire period.\n",
    "#The greatest increase in profits (date and amount) over the entire period.\n",
    "#The greatest decrease in losses (date and amount) over the entire period."
   ]
  },
  {
   "cell_type": "markdown",
   "id": "db51c4e4-1037-41f2-870b-beec1743d712",
   "metadata": {},
   "source": [
    "### Import Libraries and dependencies"
   ]
  },
  {
   "cell_type": "code",
   "execution_count": 44,
   "id": "7c1fdaea-30d6-47a7-9607-1a614cefb34a",
   "metadata": {},
   "outputs": [],
   "source": [
    "# Import libraries and dependencies\n",
    "# Import libraries and dependencies\n",
    "import pandas as pd\n",
    "import numpy as np\n",
    "from pathlib import Path"
   ]
  },
  {
   "cell_type": "markdown",
   "id": "cd7e8caa-9f7c-4a60-8795-fac89c11e803",
   "metadata": {},
   "source": [
    "### Read CSV in as DataFrame"
   ]
  },
  {
   "cell_type": "code",
   "execution_count": 45,
   "id": "ab1e96e3-3953-4aae-b2a6-88bc375640e1",
   "metadata": {},
   "outputs": [],
   "source": [
    "# Set the path\n",
    "# Set the file path\n",
    "#file_path = Path(r\"C:\\Users\\ikili\\Downloads\\budget_data\")\n",
    "\n",
    "#reading file as csv\n",
    "# Read in the CSV as a DataFrame\n",
    "dfg=pd.read_csv('budget_data.csv')\n",
    "\n"
   ]
  },
  {
   "cell_type": "code",
   "execution_count": 46,
   "id": "4f3a2a90-9ef8-4593-998a-31e55d95436a",
   "metadata": {},
   "outputs": [
    {
     "data": {
      "text/html": [
       "<div>\n",
       "<style scoped>\n",
       "    .dataframe tbody tr th:only-of-type {\n",
       "        vertical-align: middle;\n",
       "    }\n",
       "\n",
       "    .dataframe tbody tr th {\n",
       "        vertical-align: top;\n",
       "    }\n",
       "\n",
       "    .dataframe thead th {\n",
       "        text-align: right;\n",
       "    }\n",
       "</style>\n",
       "<table border=\"1\" class=\"dataframe\">\n",
       "  <thead>\n",
       "    <tr style=\"text-align: right;\">\n",
       "      <th></th>\n",
       "      <th>Date</th>\n",
       "      <th>Profit/Losses</th>\n",
       "    </tr>\n",
       "  </thead>\n",
       "  <tbody>\n",
       "    <tr>\n",
       "      <th>0</th>\n",
       "      <td>Jan-2010</td>\n",
       "      <td>867884</td>\n",
       "    </tr>\n",
       "    <tr>\n",
       "      <th>1</th>\n",
       "      <td>Feb-2010</td>\n",
       "      <td>984655</td>\n",
       "    </tr>\n",
       "    <tr>\n",
       "      <th>2</th>\n",
       "      <td>Mar-2010</td>\n",
       "      <td>322013</td>\n",
       "    </tr>\n",
       "    <tr>\n",
       "      <th>3</th>\n",
       "      <td>Apr-2010</td>\n",
       "      <td>-69417</td>\n",
       "    </tr>\n",
       "    <tr>\n",
       "      <th>4</th>\n",
       "      <td>May-2010</td>\n",
       "      <td>310503</td>\n",
       "    </tr>\n",
       "  </tbody>\n",
       "</table>\n",
       "</div>"
      ],
      "text/plain": [
       "       Date  Profit/Losses\n",
       "0  Jan-2010         867884\n",
       "1  Feb-2010         984655\n",
       "2  Mar-2010         322013\n",
       "3  Apr-2010         -69417\n",
       "4  May-2010         310503"
      ]
     },
     "execution_count": 46,
     "metadata": {},
     "output_type": "execute_result"
    }
   ],
   "source": [
    "#Using head to view data briefly\n",
    "dfg.head()"
   ]
  },
  {
   "cell_type": "markdown",
   "id": "644d7dde-cb59-4a21-bc0f-9de825aa1d2c",
   "metadata": {},
   "source": [
    "## Task (i):  The total number of months included in the dataset."
   ]
  },
  {
   "cell_type": "code",
   "execution_count": 47,
   "id": "ca2d983d-fcd3-4537-9829-16fa0d0d68b9",
   "metadata": {},
   "outputs": [],
   "source": [
    "# Create a new DataFrame by splitting the text content of a column\n",
    "split_Date = dfg[\"Date\"].str.split(\"-\", expand=True)"
   ]
  },
  {
   "cell_type": "code",
   "execution_count": 48,
   "id": "cedf56d1-7acc-4766-ab3a-6382651b184d",
   "metadata": {},
   "outputs": [
    {
     "data": {
      "text/html": [
       "<div>\n",
       "<style scoped>\n",
       "    .dataframe tbody tr th:only-of-type {\n",
       "        vertical-align: middle;\n",
       "    }\n",
       "\n",
       "    .dataframe tbody tr th {\n",
       "        vertical-align: top;\n",
       "    }\n",
       "\n",
       "    .dataframe thead th {\n",
       "        text-align: right;\n",
       "    }\n",
       "</style>\n",
       "<table border=\"1\" class=\"dataframe\">\n",
       "  <thead>\n",
       "    <tr style=\"text-align: right;\">\n",
       "      <th></th>\n",
       "      <th>0</th>\n",
       "      <th>1</th>\n",
       "    </tr>\n",
       "  </thead>\n",
       "  <tbody>\n",
       "    <tr>\n",
       "      <th>0</th>\n",
       "      <td>Jan</td>\n",
       "      <td>2010</td>\n",
       "    </tr>\n",
       "    <tr>\n",
       "      <th>1</th>\n",
       "      <td>Feb</td>\n",
       "      <td>2010</td>\n",
       "    </tr>\n",
       "    <tr>\n",
       "      <th>2</th>\n",
       "      <td>Mar</td>\n",
       "      <td>2010</td>\n",
       "    </tr>\n",
       "    <tr>\n",
       "      <th>3</th>\n",
       "      <td>Apr</td>\n",
       "      <td>2010</td>\n",
       "    </tr>\n",
       "    <tr>\n",
       "      <th>4</th>\n",
       "      <td>May</td>\n",
       "      <td>2010</td>\n",
       "    </tr>\n",
       "  </tbody>\n",
       "</table>\n",
       "</div>"
      ],
      "text/plain": [
       "     0     1\n",
       "0  Jan  2010\n",
       "1  Feb  2010\n",
       "2  Mar  2010\n",
       "3  Apr  2010\n",
       "4  May  2010"
      ]
     },
     "execution_count": 48,
     "metadata": {},
     "output_type": "execute_result"
    }
   ],
   "source": [
    "#Using head to view data briefly\n",
    "split_Date.head()"
   ]
  },
  {
   "cell_type": "code",
   "execution_count": 49,
   "id": "3b47f96a-acb4-4cf0-a98a-1b9100bb0c10",
   "metadata": {},
   "outputs": [],
   "source": [
    "# Add two new columns to the `split_Date` using the columns created after splitting the `Date` column\n",
    "dfg[\"Month\"] = split_Date[0]\n",
    "dfg[\"Year\"] = split_Date[1]"
   ]
  },
  {
   "cell_type": "code",
   "execution_count": 50,
   "id": "813416bd-911e-4b7e-9501-fb5f13601f80",
   "metadata": {},
   "outputs": [
    {
     "data": {
      "text/html": [
       "<div>\n",
       "<style scoped>\n",
       "    .dataframe tbody tr th:only-of-type {\n",
       "        vertical-align: middle;\n",
       "    }\n",
       "\n",
       "    .dataframe tbody tr th {\n",
       "        vertical-align: top;\n",
       "    }\n",
       "\n",
       "    .dataframe thead th {\n",
       "        text-align: right;\n",
       "    }\n",
       "</style>\n",
       "<table border=\"1\" class=\"dataframe\">\n",
       "  <thead>\n",
       "    <tr style=\"text-align: right;\">\n",
       "      <th></th>\n",
       "      <th>0</th>\n",
       "      <th>1</th>\n",
       "    </tr>\n",
       "  </thead>\n",
       "  <tbody>\n",
       "    <tr>\n",
       "      <th>0</th>\n",
       "      <td>Jan</td>\n",
       "      <td>2010</td>\n",
       "    </tr>\n",
       "    <tr>\n",
       "      <th>1</th>\n",
       "      <td>Feb</td>\n",
       "      <td>2010</td>\n",
       "    </tr>\n",
       "    <tr>\n",
       "      <th>2</th>\n",
       "      <td>Mar</td>\n",
       "      <td>2010</td>\n",
       "    </tr>\n",
       "    <tr>\n",
       "      <th>3</th>\n",
       "      <td>Apr</td>\n",
       "      <td>2010</td>\n",
       "    </tr>\n",
       "    <tr>\n",
       "      <th>4</th>\n",
       "      <td>May</td>\n",
       "      <td>2010</td>\n",
       "    </tr>\n",
       "  </tbody>\n",
       "</table>\n",
       "</div>"
      ],
      "text/plain": [
       "     0     1\n",
       "0  Jan  2010\n",
       "1  Feb  2010\n",
       "2  Mar  2010\n",
       "3  Apr  2010\n",
       "4  May  2010"
      ]
     },
     "execution_count": 50,
     "metadata": {},
     "output_type": "execute_result"
    }
   ],
   "source": [
    "#Using head to view data briefly\n",
    "split_Date.head()"
   ]
  },
  {
   "cell_type": "code",
   "execution_count": 51,
   "id": "3df626e2-c983-4f0b-8286-84de751d059f",
   "metadata": {},
   "outputs": [
    {
     "data": {
      "text/html": [
       "<div>\n",
       "<style scoped>\n",
       "    .dataframe tbody tr th:only-of-type {\n",
       "        vertical-align: middle;\n",
       "    }\n",
       "\n",
       "    .dataframe tbody tr th {\n",
       "        vertical-align: top;\n",
       "    }\n",
       "\n",
       "    .dataframe thead th {\n",
       "        text-align: right;\n",
       "    }\n",
       "</style>\n",
       "<table border=\"1\" class=\"dataframe\">\n",
       "  <thead>\n",
       "    <tr style=\"text-align: right;\">\n",
       "      <th></th>\n",
       "      <th>Date</th>\n",
       "      <th>Profit/Losses</th>\n",
       "      <th>Month</th>\n",
       "      <th>Year</th>\n",
       "    </tr>\n",
       "  </thead>\n",
       "  <tbody>\n",
       "    <tr>\n",
       "      <th>0</th>\n",
       "      <td>Jan-2010</td>\n",
       "      <td>867884</td>\n",
       "      <td>Jan</td>\n",
       "      <td>2010</td>\n",
       "    </tr>\n",
       "    <tr>\n",
       "      <th>1</th>\n",
       "      <td>Feb-2010</td>\n",
       "      <td>984655</td>\n",
       "      <td>Feb</td>\n",
       "      <td>2010</td>\n",
       "    </tr>\n",
       "    <tr>\n",
       "      <th>2</th>\n",
       "      <td>Mar-2010</td>\n",
       "      <td>322013</td>\n",
       "      <td>Mar</td>\n",
       "      <td>2010</td>\n",
       "    </tr>\n",
       "    <tr>\n",
       "      <th>3</th>\n",
       "      <td>Apr-2010</td>\n",
       "      <td>-69417</td>\n",
       "      <td>Apr</td>\n",
       "      <td>2010</td>\n",
       "    </tr>\n",
       "    <tr>\n",
       "      <th>4</th>\n",
       "      <td>May-2010</td>\n",
       "      <td>310503</td>\n",
       "      <td>May</td>\n",
       "      <td>2010</td>\n",
       "    </tr>\n",
       "  </tbody>\n",
       "</table>\n",
       "</div>"
      ],
      "text/plain": [
       "       Date  Profit/Losses Month  Year\n",
       "0  Jan-2010         867884   Jan  2010\n",
       "1  Feb-2010         984655   Feb  2010\n",
       "2  Mar-2010         322013   Mar  2010\n",
       "3  Apr-2010         -69417   Apr  2010\n",
       "4  May-2010         310503   May  2010"
      ]
     },
     "execution_count": 51,
     "metadata": {},
     "output_type": "execute_result"
    }
   ],
   "source": [
    "dfg.head()"
   ]
  },
  {
   "cell_type": "code",
   "execution_count": 52,
   "id": "65932324-7d81-49e5-a2ce-037fa11014c0",
   "metadata": {},
   "outputs": [],
   "source": [
    "### Delete column \"Date\""
   ]
  },
  {
   "cell_type": "code",
   "execution_count": 53,
   "id": "34f6d099-e875-4563-a937-8ee5dd1c5d44",
   "metadata": {},
   "outputs": [
    {
     "data": {
      "text/plain": [
       "Index(['Date', 'Profit/Losses', 'Month', 'Year'], dtype='object')"
      ]
     },
     "execution_count": 53,
     "metadata": {},
     "output_type": "execute_result"
    }
   ],
   "source": [
    "#finding the columns of dataframe 'dfg'\n",
    "dfg.columns"
   ]
  },
  {
   "cell_type": "code",
   "execution_count": 54,
   "id": "b1ad59f8-834e-42ad-9aa4-c2f883c66329",
   "metadata": {},
   "outputs": [],
   "source": [
    "# Use the `drop` method to delete a column from the 'split_Date'\n",
    "##dfg= dfg.drop(columns=['Date'])"
   ]
  },
  {
   "cell_type": "code",
   "execution_count": 55,
   "id": "0f9911e1-2ee6-4dac-bc7e-ddaa10814e3d",
   "metadata": {},
   "outputs": [
    {
     "data": {
      "text/html": [
       "<div>\n",
       "<style scoped>\n",
       "    .dataframe tbody tr th:only-of-type {\n",
       "        vertical-align: middle;\n",
       "    }\n",
       "\n",
       "    .dataframe tbody tr th {\n",
       "        vertical-align: top;\n",
       "    }\n",
       "\n",
       "    .dataframe thead th {\n",
       "        text-align: right;\n",
       "    }\n",
       "</style>\n",
       "<table border=\"1\" class=\"dataframe\">\n",
       "  <thead>\n",
       "    <tr style=\"text-align: right;\">\n",
       "      <th></th>\n",
       "      <th>Date</th>\n",
       "      <th>Profit/Losses</th>\n",
       "      <th>Month</th>\n",
       "      <th>Year</th>\n",
       "    </tr>\n",
       "  </thead>\n",
       "  <tbody>\n",
       "    <tr>\n",
       "      <th>0</th>\n",
       "      <td>Jan-2010</td>\n",
       "      <td>867884</td>\n",
       "      <td>Jan</td>\n",
       "      <td>2010</td>\n",
       "    </tr>\n",
       "    <tr>\n",
       "      <th>1</th>\n",
       "      <td>Feb-2010</td>\n",
       "      <td>984655</td>\n",
       "      <td>Feb</td>\n",
       "      <td>2010</td>\n",
       "    </tr>\n",
       "    <tr>\n",
       "      <th>2</th>\n",
       "      <td>Mar-2010</td>\n",
       "      <td>322013</td>\n",
       "      <td>Mar</td>\n",
       "      <td>2010</td>\n",
       "    </tr>\n",
       "    <tr>\n",
       "      <th>3</th>\n",
       "      <td>Apr-2010</td>\n",
       "      <td>-69417</td>\n",
       "      <td>Apr</td>\n",
       "      <td>2010</td>\n",
       "    </tr>\n",
       "    <tr>\n",
       "      <th>4</th>\n",
       "      <td>May-2010</td>\n",
       "      <td>310503</td>\n",
       "      <td>May</td>\n",
       "      <td>2010</td>\n",
       "    </tr>\n",
       "  </tbody>\n",
       "</table>\n",
       "</div>"
      ],
      "text/plain": [
       "       Date  Profit/Losses Month  Year\n",
       "0  Jan-2010         867884   Jan  2010\n",
       "1  Feb-2010         984655   Feb  2010\n",
       "2  Mar-2010         322013   Mar  2010\n",
       "3  Apr-2010         -69417   Apr  2010\n",
       "4  May-2010         310503   May  2010"
      ]
     },
     "execution_count": 55,
     "metadata": {},
     "output_type": "execute_result"
    }
   ],
   "source": [
    "dfg.head()"
   ]
  },
  {
   "cell_type": "code",
   "execution_count": 56,
   "id": "48cde747-57c7-43d0-81ed-efff3fbf5292",
   "metadata": {},
   "outputs": [
    {
     "data": {
      "text/html": [
       "<div>\n",
       "<style scoped>\n",
       "    .dataframe tbody tr th:only-of-type {\n",
       "        vertical-align: middle;\n",
       "    }\n",
       "\n",
       "    .dataframe tbody tr th {\n",
       "        vertical-align: top;\n",
       "    }\n",
       "\n",
       "    .dataframe thead th {\n",
       "        text-align: right;\n",
       "    }\n",
       "</style>\n",
       "<table border=\"1\" class=\"dataframe\">\n",
       "  <thead>\n",
       "    <tr style=\"text-align: right;\">\n",
       "      <th></th>\n",
       "      <th>Date</th>\n",
       "      <th>Profit/Losses</th>\n",
       "      <th>Year</th>\n",
       "    </tr>\n",
       "    <tr>\n",
       "      <th>Month</th>\n",
       "      <th></th>\n",
       "      <th></th>\n",
       "      <th></th>\n",
       "    </tr>\n",
       "  </thead>\n",
       "  <tbody>\n",
       "    <tr>\n",
       "      <th>Apr</th>\n",
       "      <td>7</td>\n",
       "      <td>7</td>\n",
       "      <td>7</td>\n",
       "    </tr>\n",
       "    <tr>\n",
       "      <th>Aug</th>\n",
       "      <td>7</td>\n",
       "      <td>7</td>\n",
       "      <td>7</td>\n",
       "    </tr>\n",
       "    <tr>\n",
       "      <th>Dec</th>\n",
       "      <td>7</td>\n",
       "      <td>7</td>\n",
       "      <td>7</td>\n",
       "    </tr>\n",
       "    <tr>\n",
       "      <th>Feb</th>\n",
       "      <td>8</td>\n",
       "      <td>8</td>\n",
       "      <td>8</td>\n",
       "    </tr>\n",
       "    <tr>\n",
       "      <th>Jan</th>\n",
       "      <td>8</td>\n",
       "      <td>8</td>\n",
       "      <td>8</td>\n",
       "    </tr>\n",
       "    <tr>\n",
       "      <th>Jul</th>\n",
       "      <td>7</td>\n",
       "      <td>7</td>\n",
       "      <td>7</td>\n",
       "    </tr>\n",
       "    <tr>\n",
       "      <th>Jun</th>\n",
       "      <td>7</td>\n",
       "      <td>7</td>\n",
       "      <td>7</td>\n",
       "    </tr>\n",
       "    <tr>\n",
       "      <th>Mar</th>\n",
       "      <td>7</td>\n",
       "      <td>7</td>\n",
       "      <td>7</td>\n",
       "    </tr>\n",
       "    <tr>\n",
       "      <th>May</th>\n",
       "      <td>7</td>\n",
       "      <td>7</td>\n",
       "      <td>7</td>\n",
       "    </tr>\n",
       "    <tr>\n",
       "      <th>Nov</th>\n",
       "      <td>7</td>\n",
       "      <td>7</td>\n",
       "      <td>7</td>\n",
       "    </tr>\n",
       "    <tr>\n",
       "      <th>Oct</th>\n",
       "      <td>7</td>\n",
       "      <td>7</td>\n",
       "      <td>7</td>\n",
       "    </tr>\n",
       "    <tr>\n",
       "      <th>Sep</th>\n",
       "      <td>7</td>\n",
       "      <td>7</td>\n",
       "      <td>7</td>\n",
       "    </tr>\n",
       "  </tbody>\n",
       "</table>\n",
       "</div>"
      ],
      "text/plain": [
       "       Date  Profit/Losses  Year\n",
       "Month                           \n",
       "Apr       7              7     7\n",
       "Aug       7              7     7\n",
       "Dec       7              7     7\n",
       "Feb       8              8     8\n",
       "Jan       8              8     8\n",
       "Jul       7              7     7\n",
       "Jun       7              7     7\n",
       "Mar       7              7     7\n",
       "May       7              7     7\n",
       "Nov       7              7     7\n",
       "Oct       7              7     7\n",
       "Sep       7              7     7"
      ]
     },
     "execution_count": 56,
     "metadata": {},
     "output_type": "execute_result"
    }
   ],
   "source": [
    "dfg.groupby(dfg.Month).agg(\"count\")"
   ]
  },
  {
   "cell_type": "code",
   "execution_count": 57,
   "id": "30b4432e-c9f8-4d63-b1b3-04097aac5567",
   "metadata": {},
   "outputs": [
    {
     "data": {
      "text/plain": [
       "array(['Apr', 'Aug', 'Dec', 'Feb', 'Jan', 'Jul', 'Jun', 'Mar', 'May',\n",
       "       'Nov', 'Oct', 'Sep'], dtype=object)"
      ]
     },
     "execution_count": 57,
     "metadata": {},
     "output_type": "execute_result"
    }
   ],
   "source": [
    "np.unique(dfg['Month'])\n"
   ]
  },
  {
   "cell_type": "code",
   "execution_count": 58,
   "id": "3e8e3f0f-6fc7-407e-812a-d4cf70413fc7",
   "metadata": {},
   "outputs": [
    {
     "data": {
      "text/plain": [
       "(86, 4)"
      ]
     },
     "execution_count": 58,
     "metadata": {},
     "output_type": "execute_result"
    }
   ],
   "source": [
    "dfg.shape"
   ]
  },
  {
   "cell_type": "code",
   "execution_count": 59,
   "id": "634047c0-2682-447b-b755-25b1d2e052ea",
   "metadata": {},
   "outputs": [
    {
     "data": {
      "text/html": [
       "<div>\n",
       "<style scoped>\n",
       "    .dataframe tbody tr th:only-of-type {\n",
       "        vertical-align: middle;\n",
       "    }\n",
       "\n",
       "    .dataframe tbody tr th {\n",
       "        vertical-align: top;\n",
       "    }\n",
       "\n",
       "    .dataframe thead th {\n",
       "        text-align: right;\n",
       "    }\n",
       "</style>\n",
       "<table border=\"1\" class=\"dataframe\">\n",
       "  <thead>\n",
       "    <tr style=\"text-align: right;\">\n",
       "      <th></th>\n",
       "      <th>Profit/Losses</th>\n",
       "    </tr>\n",
       "  </thead>\n",
       "  <tbody>\n",
       "    <tr>\n",
       "      <th>count</th>\n",
       "      <td>8.600000e+01</td>\n",
       "    </tr>\n",
       "    <tr>\n",
       "      <th>mean</th>\n",
       "      <td>4.463090e+05</td>\n",
       "    </tr>\n",
       "    <tr>\n",
       "      <th>std</th>\n",
       "      <td>5.363579e+05</td>\n",
       "    </tr>\n",
       "    <tr>\n",
       "      <th>min</th>\n",
       "      <td>-1.196225e+06</td>\n",
       "    </tr>\n",
       "    <tr>\n",
       "      <th>25%</th>\n",
       "      <td>1.821620e+05</td>\n",
       "    </tr>\n",
       "    <tr>\n",
       "      <th>50%</th>\n",
       "      <td>5.703280e+05</td>\n",
       "    </tr>\n",
       "    <tr>\n",
       "      <th>75%</th>\n",
       "      <td>7.952262e+05</td>\n",
       "    </tr>\n",
       "    <tr>\n",
       "      <th>max</th>\n",
       "      <td>1.170593e+06</td>\n",
       "    </tr>\n",
       "  </tbody>\n",
       "</table>\n",
       "</div>"
      ],
      "text/plain": [
       "       Profit/Losses\n",
       "count   8.600000e+01\n",
       "mean    4.463090e+05\n",
       "std     5.363579e+05\n",
       "min    -1.196225e+06\n",
       "25%     1.821620e+05\n",
       "50%     5.703280e+05\n",
       "75%     7.952262e+05\n",
       "max     1.170593e+06"
      ]
     },
     "execution_count": 59,
     "metadata": {},
     "output_type": "execute_result"
    }
   ],
   "source": [
    "dfg.describe()"
   ]
  },
  {
   "cell_type": "code",
   "execution_count": 60,
   "id": "8b188b91-08c7-4d8f-b92d-e14c380e9466",
   "metadata": {},
   "outputs": [
    {
     "data": {
      "text/plain": [
       "Date             86\n",
       "Profit/Losses    86\n",
       "Month            86\n",
       "Year             86\n",
       "dtype: int64"
      ]
     },
     "execution_count": 60,
     "metadata": {},
     "output_type": "execute_result"
    }
   ],
   "source": [
    "dfg.count()"
   ]
  },
  {
   "cell_type": "code",
   "execution_count": 61,
   "id": "af2351f3-5626-4ae1-956e-dd5895e19dc5",
   "metadata": {},
   "outputs": [],
   "source": [
    "#Total number of months included:86"
   ]
  },
  {
   "cell_type": "code",
   "execution_count": 62,
   "id": "1e090931-c63e-4e5c-bd3f-effe06b40b52",
   "metadata": {},
   "outputs": [],
   "source": [
    "Total_num_months=dfg['Date'].count()"
   ]
  },
  {
   "cell_type": "markdown",
   "id": "89d42f7e-6649-4c28-b13d-061b149cbec4",
   "metadata": {},
   "source": [
    "## Task (ii): The net total amount of Profit/Losses over the entire period."
   ]
  },
  {
   "cell_type": "code",
   "execution_count": 63,
   "id": "11291d04-6ea7-4c1a-9c7e-c77ec7b97a55",
   "metadata": {},
   "outputs": [
    {
     "data": {
      "text/html": [
       "<div>\n",
       "<style scoped>\n",
       "    .dataframe tbody tr th:only-of-type {\n",
       "        vertical-align: middle;\n",
       "    }\n",
       "\n",
       "    .dataframe tbody tr th {\n",
       "        vertical-align: top;\n",
       "    }\n",
       "\n",
       "    .dataframe thead th {\n",
       "        text-align: right;\n",
       "    }\n",
       "</style>\n",
       "<table border=\"1\" class=\"dataframe\">\n",
       "  <thead>\n",
       "    <tr style=\"text-align: right;\">\n",
       "      <th></th>\n",
       "      <th>Date</th>\n",
       "      <th>Profit/Losses</th>\n",
       "      <th>Month</th>\n",
       "      <th>Year</th>\n",
       "    </tr>\n",
       "  </thead>\n",
       "  <tbody>\n",
       "    <tr>\n",
       "      <th>0</th>\n",
       "      <td>Jan-2010</td>\n",
       "      <td>867884</td>\n",
       "      <td>Jan</td>\n",
       "      <td>2010</td>\n",
       "    </tr>\n",
       "    <tr>\n",
       "      <th>1</th>\n",
       "      <td>Feb-2010</td>\n",
       "      <td>984655</td>\n",
       "      <td>Feb</td>\n",
       "      <td>2010</td>\n",
       "    </tr>\n",
       "    <tr>\n",
       "      <th>2</th>\n",
       "      <td>Mar-2010</td>\n",
       "      <td>322013</td>\n",
       "      <td>Mar</td>\n",
       "      <td>2010</td>\n",
       "    </tr>\n",
       "    <tr>\n",
       "      <th>3</th>\n",
       "      <td>Apr-2010</td>\n",
       "      <td>-69417</td>\n",
       "      <td>Apr</td>\n",
       "      <td>2010</td>\n",
       "    </tr>\n",
       "    <tr>\n",
       "      <th>4</th>\n",
       "      <td>May-2010</td>\n",
       "      <td>310503</td>\n",
       "      <td>May</td>\n",
       "      <td>2010</td>\n",
       "    </tr>\n",
       "  </tbody>\n",
       "</table>\n",
       "</div>"
      ],
      "text/plain": [
       "       Date  Profit/Losses Month  Year\n",
       "0  Jan-2010         867884   Jan  2010\n",
       "1  Feb-2010         984655   Feb  2010\n",
       "2  Mar-2010         322013   Mar  2010\n",
       "3  Apr-2010         -69417   Apr  2010\n",
       "4  May-2010         310503   May  2010"
      ]
     },
     "execution_count": 63,
     "metadata": {},
     "output_type": "execute_result"
    }
   ],
   "source": [
    "dfg.head()"
   ]
  },
  {
   "cell_type": "markdown",
   "id": "1a372750-3eed-465f-aa61-b18f81b86791",
   "metadata": {},
   "source": [
    "### Method I"
   ]
  },
  {
   "cell_type": "code",
   "execution_count": 64,
   "id": "20053b47-26d5-4b64-992c-9eb2956f44ab",
   "metadata": {},
   "outputs": [
    {
     "data": {
      "text/plain": [
       "Index(['Date', 'Profit/Losses', 'Month', 'Year'], dtype='object')"
      ]
     },
     "execution_count": 64,
     "metadata": {},
     "output_type": "execute_result"
    }
   ],
   "source": [
    "dfg.columns"
   ]
  },
  {
   "cell_type": "code",
   "execution_count": 65,
   "id": "c74018ae-7d1e-4767-ab5d-81d60c51fd7c",
   "metadata": {},
   "outputs": [
    {
     "data": {
      "text/plain": [
       "Date             object\n",
       "Profit/Losses     int64\n",
       "Month            object\n",
       "Year             object\n",
       "dtype: object"
      ]
     },
     "execution_count": 65,
     "metadata": {},
     "output_type": "execute_result"
    }
   ],
   "source": [
    "#Finding data type for columns\n",
    "dfg.dtypes"
   ]
  },
  {
   "cell_type": "code",
   "execution_count": 66,
   "id": "fa0e29ed-7e02-4a65-a0b2-db1a863ebdc8",
   "metadata": {},
   "outputs": [],
   "source": [
    "sum_profit=0\n",
    "sum_loss=0\n",
    "Total_PL=0"
   ]
  },
  {
   "cell_type": "code",
   "execution_count": 67,
   "id": "8051bb00-8be3-4d3b-977d-fefac7afeb25",
   "metadata": {},
   "outputs": [],
   "source": [
    "for item in dfg[\"Profit/Losses\"]:\n",
    "    if item>0:\n",
    "        sum_profit=sum_profit+item\n",
    "    elif item<0:\n",
    "        sum_loss=sum_loss+item\n",
    "total_PL=sum_profit+sum_loss # keeping plus sign because loss is in minus sign\n",
    " "
   ]
  },
  {
   "cell_type": "code",
   "execution_count": 68,
   "id": "350e7236-fedb-4f1b-a5e1-d5d9c6798fe8",
   "metadata": {},
   "outputs": [
    {
     "data": {
      "text/plain": [
       "45710004"
      ]
     },
     "execution_count": 68,
     "metadata": {},
     "output_type": "execute_result"
    }
   ],
   "source": [
    "sum_profit"
   ]
  },
  {
   "cell_type": "code",
   "execution_count": 69,
   "id": "d12ff1be-602a-4327-9c29-f220126f2252",
   "metadata": {},
   "outputs": [
    {
     "data": {
      "text/plain": [
       "-7327426"
      ]
     },
     "execution_count": 69,
     "metadata": {},
     "output_type": "execute_result"
    }
   ],
   "source": [
    "sum_loss"
   ]
  },
  {
   "cell_type": "code",
   "execution_count": 70,
   "id": "04b20687-81ad-49d2-b9c9-7fb4ffc40607",
   "metadata": {},
   "outputs": [
    {
     "data": {
      "text/plain": [
       "38382578"
      ]
     },
     "execution_count": 70,
     "metadata": {},
     "output_type": "execute_result"
    }
   ],
   "source": [
    "total_PL"
   ]
  },
  {
   "cell_type": "markdown",
   "id": "ae79a550-fffc-427f-8b46-753c9b993b0b",
   "metadata": {},
   "source": [
    "### Method II (one step, without for loop)"
   ]
  },
  {
   "cell_type": "code",
   "execution_count": 71,
   "id": "af45232d-869b-4574-80ad-2d50154108a4",
   "metadata": {},
   "outputs": [],
   "source": [
    "#using numpy \n",
    "total=np.sum(dfg[\"Profit/Losses\"])"
   ]
  },
  {
   "cell_type": "code",
   "execution_count": 73,
   "id": "b17cdb1f-111d-4404-b2d8-2a6d691742d9",
   "metadata": {},
   "outputs": [
    {
     "data": {
      "text/plain": [
       "38382578"
      ]
     },
     "execution_count": 73,
     "metadata": {},
     "output_type": "execute_result"
    }
   ],
   "source": [
    "total"
   ]
  },
  {
   "cell_type": "markdown",
   "id": "44250a93-6794-4cdb-b97c-f04dab8e3e42",
   "metadata": {},
   "source": [
    "## Task (iii): The average of the changes in Profit/Losses over the entire period.\n",
    "## Task (iv): The greatest increase in profits (date and amount) over the entire period.\n",
    "## Task (v): The greatest decrease in losses (date and amount) over the entire period."
   ]
  },
  {
   "cell_type": "markdown",
   "id": "36494029-c1a1-41dd-885f-0e0a5dd878ab",
   "metadata": {},
   "source": [
    "### Method I"
   ]
  },
  {
   "cell_type": "code",
   "execution_count": 74,
   "id": "de21adf0-6280-41ca-8e85-69265b55b6c8",
   "metadata": {},
   "outputs": [],
   "source": [
    "dfg[\"change\"]=dfg[\"Profit/Losses\"].diff()"
   ]
  },
  {
   "cell_type": "code",
   "execution_count": 75,
   "id": "8ebef245-d769-4a01-80b8-35934c6b4cd1",
   "metadata": {},
   "outputs": [
    {
     "data": {
      "text/html": [
       "<div>\n",
       "<style scoped>\n",
       "    .dataframe tbody tr th:only-of-type {\n",
       "        vertical-align: middle;\n",
       "    }\n",
       "\n",
       "    .dataframe tbody tr th {\n",
       "        vertical-align: top;\n",
       "    }\n",
       "\n",
       "    .dataframe thead th {\n",
       "        text-align: right;\n",
       "    }\n",
       "</style>\n",
       "<table border=\"1\" class=\"dataframe\">\n",
       "  <thead>\n",
       "    <tr style=\"text-align: right;\">\n",
       "      <th></th>\n",
       "      <th>Date</th>\n",
       "      <th>Profit/Losses</th>\n",
       "      <th>Month</th>\n",
       "      <th>Year</th>\n",
       "      <th>change</th>\n",
       "    </tr>\n",
       "  </thead>\n",
       "  <tbody>\n",
       "    <tr>\n",
       "      <th>0</th>\n",
       "      <td>Jan-2010</td>\n",
       "      <td>867884</td>\n",
       "      <td>Jan</td>\n",
       "      <td>2010</td>\n",
       "      <td>NaN</td>\n",
       "    </tr>\n",
       "    <tr>\n",
       "      <th>1</th>\n",
       "      <td>Feb-2010</td>\n",
       "      <td>984655</td>\n",
       "      <td>Feb</td>\n",
       "      <td>2010</td>\n",
       "      <td>116771.0</td>\n",
       "    </tr>\n",
       "    <tr>\n",
       "      <th>2</th>\n",
       "      <td>Mar-2010</td>\n",
       "      <td>322013</td>\n",
       "      <td>Mar</td>\n",
       "      <td>2010</td>\n",
       "      <td>-662642.0</td>\n",
       "    </tr>\n",
       "    <tr>\n",
       "      <th>3</th>\n",
       "      <td>Apr-2010</td>\n",
       "      <td>-69417</td>\n",
       "      <td>Apr</td>\n",
       "      <td>2010</td>\n",
       "      <td>-391430.0</td>\n",
       "    </tr>\n",
       "    <tr>\n",
       "      <th>4</th>\n",
       "      <td>May-2010</td>\n",
       "      <td>310503</td>\n",
       "      <td>May</td>\n",
       "      <td>2010</td>\n",
       "      <td>379920.0</td>\n",
       "    </tr>\n",
       "  </tbody>\n",
       "</table>\n",
       "</div>"
      ],
      "text/plain": [
       "       Date  Profit/Losses Month  Year    change\n",
       "0  Jan-2010         867884   Jan  2010       NaN\n",
       "1  Feb-2010         984655   Feb  2010  116771.0\n",
       "2  Mar-2010         322013   Mar  2010 -662642.0\n",
       "3  Apr-2010         -69417   Apr  2010 -391430.0\n",
       "4  May-2010         310503   May  2010  379920.0"
      ]
     },
     "execution_count": 75,
     "metadata": {},
     "output_type": "execute_result"
    }
   ],
   "source": [
    "dfg.head()"
   ]
  },
  {
   "cell_type": "code",
   "execution_count": 76,
   "id": "56a024d4-8a55-4182-9fc7-0a95f8f230ca",
   "metadata": {},
   "outputs": [],
   "source": [
    "#finding the average of change column : Answer fo task 3"
   ]
  },
  {
   "cell_type": "code",
   "execution_count": 77,
   "id": "bc1cabb7-e238-4f83-9815-2c6a58842a7a",
   "metadata": {},
   "outputs": [
    {
     "data": {
      "text/plain": [
       "-2315.1176470588234"
      ]
     },
     "execution_count": 77,
     "metadata": {},
     "output_type": "execute_result"
    }
   ],
   "source": [
    "dfg[\"change\"].mean()"
   ]
  },
  {
   "cell_type": "code",
   "execution_count": 78,
   "id": "5e9e5e36-533c-4121-8615-a370c03bb55c",
   "metadata": {},
   "outputs": [],
   "source": [
    "#finding the  maximum value in change column : Answer for task 4"
   ]
  },
  {
   "cell_type": "code",
   "execution_count": 79,
   "id": "9d255985-13f8-41bf-9c7b-1f973af52f8d",
   "metadata": {},
   "outputs": [
    {
     "data": {
      "text/plain": [
       "1926159.0"
      ]
     },
     "execution_count": 79,
     "metadata": {},
     "output_type": "execute_result"
    }
   ],
   "source": [
    "dfg[\"change\"].max()"
   ]
  },
  {
   "cell_type": "code",
   "execution_count": 80,
   "id": "ac3c3866-559e-43c3-b827-873d28496986",
   "metadata": {},
   "outputs": [],
   "source": [
    "#finding the minimum value in change column : Answer for task 5"
   ]
  },
  {
   "cell_type": "code",
   "execution_count": 81,
   "id": "d7b04f17-e65c-4022-bbd8-22889947547f",
   "metadata": {},
   "outputs": [
    {
     "data": {
      "text/plain": [
       "-2196167.0"
      ]
     },
     "execution_count": 81,
     "metadata": {},
     "output_type": "execute_result"
    }
   ],
   "source": [
    "dfg[\"change\"].min()"
   ]
  },
  {
   "cell_type": "markdown",
   "id": "16cf86b8-a547-4133-bb35-fc0a8949b8ac",
   "metadata": {},
   "source": [
    "### Method II "
   ]
  },
  {
   "cell_type": "code",
   "execution_count": 82,
   "id": "4e948563-738d-45c5-910f-473ce073639e",
   "metadata": {},
   "outputs": [],
   "source": [
    "#creating a list out of column 'Profit/Losses'\n",
    "profitLossesList = list(dfg['Profit/Losses'])\n",
    "\n",
    "#creating an empty list\n",
    "changeList = []\n",
    "\n",
    "#initializing a variable\n",
    "counter = 0\n",
    "\n",
    "#creating a numpy array\n",
    "numDB = np.array(profitLossesList)\n",
    "\n"
   ]
  },
  {
   "cell_type": "code",
   "execution_count": 83,
   "id": "b564d75c-1ffd-42fe-a6ab-a78fd74661a7",
   "metadata": {},
   "outputs": [],
   "source": [
    "#using for loop to iterate through the values over the years\n",
    "for i in range(len(dfg)-1):\n",
    "    #to find current position while iterating\n",
    "    current = profitLossesList[i]\n",
    "    #to find position next to current value to compare it with \n",
    "    current_before = profitLossesList[i+1]\n",
    "    #appending their differences in a list\n",
    "    changeList.append(current_before-current)\n",
    "    #Finding minimum value in the list (over the years)\n",
    "    minimum_Change = min(changeList)\n",
    "    #Finding maximum value in the list (over the years)\n",
    "    maximum_Change = max(changeList)  \n",
    "    #Fiding average value in the list (ober the years)\n",
    "    average_Chance = round(np.mean(changeList),2)"
   ]
  },
  {
   "cell_type": "markdown",
   "id": "c5197c3f-a3c3-4d96-bee6-579035b71e14",
   "metadata": {},
   "source": [
    "# Printing out the Output for all Tasks"
   ]
  },
  {
   "cell_type": "code",
   "execution_count": 84,
   "id": "59b67631-850d-48a3-b12e-7f01fb98eb0d",
   "metadata": {},
   "outputs": [
    {
     "name": "stdout",
     "output_type": "stream",
     "text": [
      "\n",
      "Financial Analysis\n",
      "----------------------------------\n",
      "\n",
      "Your profit is: $38382578\n",
      "Total Months 86\n",
      "Average  Change: $-2315.12\n",
      "Greatest Increase in Profits: ($1926159)\n",
      "Greatest Decrease in Profits: ($-2196167)\n"
     ]
    }
   ],
   "source": [
    "\n",
    "print(f\"\\nFinancial Analysis\\n----------------------------------\\n\")\n",
    "print(f\"Your profit is: ${total}\")\n",
    "print(f\"Total Months {Total_num_months}\")\n",
    "print(f\"Average  Change: ${average_Chance}\")\n",
    "print(f\"Greatest Increase in Profits: (${maximum_Change})\")\n",
    "print(f\"Greatest Decrease in Profits: (${minimum_Change})\")"
   ]
  },
  {
   "cell_type": "code",
   "execution_count": null,
   "id": "49d031be-b5e5-40fe-ab8e-c20d29279fe4",
   "metadata": {},
   "outputs": [],
   "source": []
  },
  {
   "cell_type": "code",
   "execution_count": null,
   "id": "541f54bb-e2b4-413d-b7e9-bf0d548bef7d",
   "metadata": {},
   "outputs": [],
   "source": []
  }
 ],
 "metadata": {
  "kernelspec": {
   "display_name": "Python 3",
   "language": "python",
   "name": "python3"
  },
  "language_info": {
   "codemirror_mode": {
    "name": "ipython",
    "version": 3
   },
   "file_extension": ".py",
   "mimetype": "text/x-python",
   "name": "python",
   "nbconvert_exporter": "python",
   "pygments_lexer": "ipython3",
   "version": "3.8.8"
  }
 },
 "nbformat": 4,
 "nbformat_minor": 5
}
